{
 "cells": [
  {
   "cell_type": "code",
   "execution_count": 1,
   "metadata": {},
   "outputs": [],
   "source": [
    "import os\n",
    "import re\n",
    "import datetime\n",
    "import numpy as np\n",
    "import pandas as pd\n",
    "pd.set_option('display.max_rows', 500)\n",
    "pd.set_option('display.max_columns', 500)\n",
    "#round cost values\n",
    "pd.options.display.float_format = '{:.2f}'.format"
   ]
  },
  {
   "cell_type": "code",
   "execution_count": 4,
   "metadata": {},
   "outputs": [
    {
     "name": "stdout",
     "output_type": "stream",
     "text": [
      "15 files in this folder\n",
      "File TESTE_2.xlsx saved\n"
     ]
    }
   ],
   "source": [
    "####### folder_1 = input(\"Enter the folder name: \")\n",
    "####### folder = '{}/'.format(folder_1)\n",
    "\n",
    "folder = 'Files/'\n",
    "\n",
    "#create a list for the files - we are going to open and merge\n",
    "list_files = [f for f in os.listdir(folder) if os.path.isfile(os.path.join(folder, f))]\n",
    "\n",
    "print('{} files in this folder'.format(len(list_files)))\n",
    "\n",
    "#create a list of the path of files - we are going to use to open the df\n",
    "path_files = []\n",
    "for file in list_files:\n",
    "    path_file = folder + file\n",
    "    path_files.append(path_file)\n",
    "\n",
    "#columns of the df to use\n",
    "#col_use = [*range(0,34), *range(35,72), *range(73,77)]\n",
    "\n",
    "#create a dict to put the df\n",
    "df = {}\n",
    "\n",
    "#read and store each file of the folder \n",
    "for i in range(0,len(list_files)):   \n",
    "    #read the excel\n",
    "    df[i] = pd.read_excel(path_files[i],index_col=None, header=0)\n",
    "    \n",
    "#create a list of df - we are going to concat them\n",
    "list_df = []\n",
    "for num in df.keys():\n",
    "    df_new = df[num]\n",
    "    list_df.append(df_new)\n",
    "\n",
    "#join the df\n",
    "df_all = pd.concat(list_df,axis=0,ignore_index=True)\n",
    "\n",
    "file_name = 'TESTE_2.xlsx'\n",
    "writer = pd.ExcelWriter(file_name, engine='xlsxwriter')\n",
    "df_all.to_excel(writer, sheet_name = 'Simulação')\n",
    "writer.save()\n",
    "        \n",
    "print('File {} saved'.format(file_name))"
   ]
  },
  {
   "cell_type": "code",
   "execution_count": 5,
   "metadata": {},
   "outputs": [
    {
     "name": "stdout",
     "output_type": "stream",
     "text": [
      "<class 'pandas.core.frame.DataFrame'>\n",
      "RangeIndex: 3099 entries, 0 to 3098\n",
      "Data columns (total 21 columns):\n",
      "Id Infosiga                       3099 non-null int64\n",
      "Cidade Considerada                3099 non-null object\n",
      "Região Administrativa             3099 non-null object\n",
      "Ano Óbito                         3099 non-null int64\n",
      "Mês Óbito                         3099 non-null int64\n",
      "Mês Descrição                     3099 non-null object\n",
      "Sexo                              3069 non-null object\n",
      "Turno                             3099 non-null object\n",
      "Tipo Acidente                     3099 non-null object\n",
      "SubTipo do Acidente               1137 non-null object\n",
      "Tipo Veiculo                      3099 non-null object\n",
      "Faixa Etária                      3099 non-null object\n",
      "Idade                             3099 non-null object\n",
      "Tipo Vítima                       3099 non-null object\n",
      "Tipo Local do Acidente            3057 non-null object\n",
      "Dia Semana                        3096 non-null object\n",
      "Tipo de Via                       3099 non-null object\n",
      "LAT_(geo)                         3099 non-null object\n",
      "LONG_(geo)                        3099 non-null object\n",
      "Outro Veículo Envolvido           2280 non-null object\n",
      "Tempo entre Acidente e o Óbito    3096 non-null object\n",
      "dtypes: int64(3), object(18)\n",
      "memory usage: 508.5+ KB\n"
     ]
    }
   ],
   "source": [
    "df_all.info()"
   ]
  }
 ],
 "metadata": {
  "kernelspec": {
   "display_name": "Python 3",
   "language": "python",
   "name": "python3"
  },
  "language_info": {
   "codemirror_mode": {
    "name": "ipython",
    "version": 3
   },
   "file_extension": ".py",
   "mimetype": "text/x-python",
   "name": "python",
   "nbconvert_exporter": "python",
   "pygments_lexer": "ipython3",
   "version": "3.6.0"
  }
 },
 "nbformat": 4,
 "nbformat_minor": 2
}
